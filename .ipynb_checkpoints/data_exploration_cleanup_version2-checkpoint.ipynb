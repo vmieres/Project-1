{
 "cells": [
  {
   "cell_type": "markdown",
   "metadata": {},
   "source": [
    "# Data Exploration and Cleanup"
   ]
  },
  {
   "cell_type": "markdown",
   "metadata": {},
   "source": [
    "## Imports"
   ]
  },
  {
   "cell_type": "code",
   "execution_count": 1,
   "metadata": {},
   "outputs": [
    {
     "ename": "ModuleNotFoundError",
     "evalue": "No module named 'forex_python'",
     "output_type": "error",
     "traceback": [
      "\u001b[1;31m---------------------------------------------------------------------------\u001b[0m",
      "\u001b[1;31mModuleNotFoundError\u001b[0m                       Traceback (most recent call last)",
      "\u001b[1;32m<ipython-input-1-4495a2aab1a0>\u001b[0m in \u001b[0;36m<module>\u001b[1;34m\u001b[0m\n\u001b[0;32m      6\u001b[0m \u001b[1;32mfrom\u001b[0m \u001b[0mpathlib\u001b[0m \u001b[1;32mimport\u001b[0m \u001b[0mPath\u001b[0m\u001b[1;33m\u001b[0m\u001b[1;33m\u001b[0m\u001b[0m\n\u001b[0;32m      7\u001b[0m \u001b[1;32mimport\u001b[0m \u001b[0mos\u001b[0m\u001b[1;33m\u001b[0m\u001b[1;33m\u001b[0m\u001b[0m\n\u001b[1;32m----> 8\u001b[1;33m \u001b[1;32mfrom\u001b[0m \u001b[0mforex_python\u001b[0m\u001b[1;33m.\u001b[0m\u001b[0mconverter\u001b[0m \u001b[1;32mimport\u001b[0m \u001b[0mCurrencyRates\u001b[0m \u001b[1;31m# New library: forex_python\u001b[0m\u001b[1;33m\u001b[0m\u001b[1;33m\u001b[0m\u001b[0m\n\u001b[0m\u001b[0;32m      9\u001b[0m \u001b[0mc\u001b[0m \u001b[1;33m=\u001b[0m \u001b[0mCurrencyRates\u001b[0m\u001b[1;33m(\u001b[0m\u001b[1;33m)\u001b[0m\u001b[1;33m\u001b[0m\u001b[1;33m\u001b[0m\u001b[0m\n\u001b[0;32m     10\u001b[0m \u001b[0mpath\u001b[0m \u001b[1;33m=\u001b[0m \u001b[0mos\u001b[0m\u001b[1;33m.\u001b[0m\u001b[0mgetcwd\u001b[0m\u001b[1;33m(\u001b[0m\u001b[1;33m)\u001b[0m\u001b[1;33m\u001b[0m\u001b[1;33m\u001b[0m\u001b[0m\n",
      "\u001b[1;31mModuleNotFoundError\u001b[0m: No module named 'forex_python'"
     ]
    }
   ],
   "source": [
    "# Initialize imports\n",
    "import warnings\n",
    "warnings.filterwarnings('ignore')\n",
    "import requests\n",
    "import pandas as pd\n",
    "from pathlib import Path\n",
    "import os\n",
    "from forex_python.converter import CurrencyRates # New library: forex_python\n",
    "c = CurrencyRates()\n",
    "path = os.getcwd()\n",
    "import matplotlib.pyplot as plt\n",
    "import plotly.express as px\n",
    "import hvplot.pandas\n",
    "from dotenv import load_dotenv\n",
    "import numpy as np\n",
    "import panel as pn\n",
    "from panel.interact import interact\n",
    "from panel import widgets\n",
    "import matplotlib.pyplot as plt\n",
    "from MCForecastTools import MCSimulation\n",
    "%matplotlib inline"
   ]
  },
  {
   "cell_type": "code",
   "execution_count": null,
   "metadata": {},
   "outputs": [],
   "source": [
    "# Read Mapbox API key\n",
    "pn.extension()\n",
    "load_dotenv()\n",
    "mapbox_token = os.getenv(\"MAPBOX_API_KEY\")\n",
    "px.set_mapbox_access_token (mapbox_token)"
   ]
  },
  {
   "cell_type": "code",
   "execution_count": null,
   "metadata": {},
   "outputs": [],
   "source": [
    "# Set data path\n",
    "wages_csv_path = Path(\"Resources/minimum_hourly_wage_worldwide.csv\")\n",
    "gold_csv_path = Path(\"Resources/gold_price.csv\")\n",
    "countries_csv_path = Path(\"Resources/countries_lat_lon.csv\")"
   ]
  },
  {
   "cell_type": "code",
   "execution_count": null,
   "metadata": {},
   "outputs": [],
   "source": [
    "# Read data into DataFrame\n",
    "minimum_wage_df = pd.read_csv(wages_csv_path, \n",
    "                              index_col='Country'\n",
    "                             )\n",
    "gold_price_df = pd.read_csv(gold_csv_path, \n",
    "                            index_col='Date', \n",
    "                            parse_dates=True, \n",
    "                            infer_datetime_format=True\n",
    "                           )\n",
    "country_coordinates_df = pd.read_csv(countries_csv_path)"
   ]
  },
  {
   "cell_type": "code",
   "execution_count": null,
   "metadata": {},
   "outputs": [],
   "source": [
    "# Backup copy for Monte Carlo Simulation\n",
    "gold_df = gold_price_df.copy()"
   ]
  },
  {
   "cell_type": "markdown",
   "metadata": {},
   "source": [
    "---"
   ]
  },
  {
   "cell_type": "code",
   "execution_count": null,
   "metadata": {},
   "outputs": [],
   "source": [
    "# Show head minimum_wage_df\n",
    "minimum_wage_df.head()"
   ]
  },
  {
   "cell_type": "code",
   "execution_count": null,
   "metadata": {},
   "outputs": [],
   "source": [
    "# Show head gold_price_df\n",
    "gold_price_df.head()"
   ]
  },
  {
   "cell_type": "code",
   "execution_count": null,
   "metadata": {},
   "outputs": [],
   "source": [
    "# Show head country_coordinates_df\n",
    "country_coordinates_df.head()"
   ]
  },
  {
   "cell_type": "markdown",
   "metadata": {},
   "source": [
    "## Data Clean Up"
   ]
  },
  {
   "cell_type": "markdown",
   "metadata": {},
   "source": [
    "### Minimum Wage DataFrame"
   ]
  },
  {
   "cell_type": "code",
   "execution_count": null,
   "metadata": {},
   "outputs": [],
   "source": [
    "# Drop NaN values\n",
    "minimum_wage_df.dropna(inplace=True)\n",
    "minimum_wage_df.head()"
   ]
  },
  {
   "cell_type": "code",
   "execution_count": null,
   "metadata": {},
   "outputs": [],
   "source": [
    "# Reset index to remove 'Country' index\n",
    "minimum_wage_df.reset_index(inplace=True)\n",
    "minimum_wage_df.head()"
   ]
  },
  {
   "cell_type": "code",
   "execution_count": null,
   "metadata": {},
   "outputs": [],
   "source": [
    "# Drop 'Country' column\n",
    "minimum_wage_df.drop(columns=['Country'], inplace=True)\n",
    "minimum_wage_df.head()"
   ]
  },
  {
   "cell_type": "code",
   "execution_count": null,
   "metadata": {},
   "outputs": [],
   "source": [
    "# Rename 'Unnamed' column to 'Year'\n",
    "minimum_wage_df.rename(columns={'Unnamed: 0':'Year'}, inplace=True)\n",
    "minimum_wage_df.head()"
   ]
  },
  {
   "cell_type": "code",
   "execution_count": null,
   "metadata": {},
   "outputs": [],
   "source": [
    "# Set 'Year' as index\n",
    "minimum_wage_df.index = minimum_wage_df.Year\n",
    "minimum_wage_df.head()"
   ]
  },
  {
   "cell_type": "code",
   "execution_count": null,
   "metadata": {},
   "outputs": [],
   "source": [
    "# Drop duplicate 'Year' column\n",
    "minimum_wage_df.drop(columns=['Year'], inplace=True)\n",
    "minimum_wage_df.head()"
   ]
  },
  {
   "cell_type": "code",
   "execution_count": null,
   "metadata": {},
   "outputs": [],
   "source": [
    "# Set datetime index\n",
    "minimum_wage_df.index = pd.to_datetime(minimum_wage_df.index)\n",
    "minimum_wage_df.head()"
   ]
  },
  {
   "cell_type": "code",
   "execution_count": null,
   "metadata": {},
   "outputs": [],
   "source": [
    "# Extract year from index\n",
    "minimum_wage_df.index = minimum_wage_df.index.year\n",
    "minimum_wage_df.head()"
   ]
  },
  {
   "cell_type": "code",
   "execution_count": null,
   "metadata": {},
   "outputs": [],
   "source": [
    "# Replace \"..\" for Germany with its mean\n",
    "minimum_wage_df['Germany'].replace('..', minimum_wage_df\n",
    "                                   .loc[2015:2019, 'Germany']\n",
    "                                   .astype(float)\n",
    "                                   .mean(), \n",
    "                                   inplace=True\n",
    "                                  )\n",
    "minimum_wage_df.head()"
   ]
  },
  {
   "cell_type": "code",
   "execution_count": null,
   "metadata": {},
   "outputs": [],
   "source": [
    "# Replace \"..\" for Japan with its mean\n",
    "minimum_wage_df['Japan'].replace('..', minimum_wage_df\n",
    "                                 .loc[2001:2018, 'Japan']\n",
    "                                 .astype(float)\n",
    "                                 .mean(), \n",
    "                                 inplace=True\n",
    "                                )\n",
    "minimum_wage_df.head()"
   ]
  },
  {
   "cell_type": "code",
   "execution_count": null,
   "metadata": {},
   "outputs": [],
   "source": [
    "# Convert data type from string to float\n",
    "for column in minimum_wage_df.columns:    \n",
    "    minimum_wage_df[column] = minimum_wage_df[column].astype(float)\n",
    "minimum_wage_df.head()"
   ]
  },
  {
   "cell_type": "markdown",
   "metadata": {},
   "source": [
    "### Gold Price DataFrame"
   ]
  },
  {
   "cell_type": "code",
   "execution_count": null,
   "metadata": {},
   "outputs": [],
   "source": [
    "# Drop unnecessary columns\n",
    "gold_price_df.drop(columns=['Open', 'High', 'Low', 'Change %'], inplace=True)\n",
    "gold_price_df.head()"
   ]
  },
  {
   "cell_type": "code",
   "execution_count": null,
   "metadata": {},
   "outputs": [],
   "source": [
    "# Data conversion of Price from string to float\n",
    "gold_price_df['Price'] = gold_price_df['Price'].str.replace(',', '')\n",
    "gold_price_df['Price'] = gold_price_df['Price'].astype(float)\n",
    "gold_price_df.dtypes"
   ]
  },
  {
   "cell_type": "code",
   "execution_count": null,
   "metadata": {},
   "outputs": [],
   "source": [
    "gold_price_df.head()"
   ]
  },
  {
   "cell_type": "markdown",
   "metadata": {},
   "source": [
    "### Monte Carlo Gold DataFrame"
   ]
  },
  {
   "cell_type": "code",
   "execution_count": null,
   "metadata": {},
   "outputs": [],
   "source": [
    "# Slice data\n",
    "gold_df = gold_df[['Open', 'High', \n",
    "                   'Low', 'Price', \n",
    "                   'Change %'\n",
    "                  ]]\n",
    "# Rename columns\n",
    "gold_df.rename(columns = {'Open':'open', \n",
    "                          'High':'high', \n",
    "                          'Low':'low', \n",
    "                          'Price':'close', \n",
    "                          'Change %':'volume'\n",
    "                         }, \n",
    "               inplace=True\n",
    "              )\n",
    "gold_df.head()"
   ]
  },
  {
   "cell_type": "code",
   "execution_count": null,
   "metadata": {},
   "outputs": [],
   "source": [
    "# Convert data types to float\n",
    "for columns in gold_df.columns:  \n",
    "    if columns != 'volume':   \n",
    "        gold_df[columns] = gold_df[columns].str.replace(',', '')\n",
    "        gold_df[columns] = gold_df[columns].astype(float)\n",
    "gold_df.head()"
   ]
  },
  {
   "cell_type": "markdown",
   "metadata": {},
   "source": [
    "## Data Preparation"
   ]
  },
  {
   "cell_type": "markdown",
   "metadata": {},
   "source": [
    "### Work Hours"
   ]
  },
  {
   "cell_type": "code",
   "execution_count": null,
   "metadata": {},
   "outputs": [],
   "source": [
    "# Sort values by descending order for minimum wage DataFrame\n",
    "minimum_wage_df.sort_values(by='Year', \n",
    "                            ascending=False, \n",
    "                            inplace=True\n",
    "                           )\n",
    "minimum_wage_df.sort_values(by=2019, \n",
    "                            axis=1, \n",
    "                            ascending=False,\n",
    "                            inplace=True\n",
    "                           )"
   ]
  },
  {
   "cell_type": "code",
   "execution_count": null,
   "metadata": {},
   "outputs": [],
   "source": [
    "# Extract year from index\n",
    "gold_price_year_df = gold_price_df.copy()\n",
    "gold_price_year_df.index = gold_price_df.index.year\n",
    "gold_price_year_df.head()"
   ]
  },
  {
   "cell_type": "code",
   "execution_count": null,
   "metadata": {},
   "outputs": [],
   "source": [
    "# Get annual average gold price\n",
    "avg_gold_price_df = gold_price_year_df.groupby('Date').mean()\n",
    "avg_gold_price_df.head()"
   ]
  },
  {
   "cell_type": "code",
   "execution_count": null,
   "metadata": {},
   "outputs": [],
   "source": [
    "# Calculating work hours for each country\n",
    "work_hours = pd.concat([avg_gold_price_df, \n",
    "                        minimum_wage_df], \n",
    "                       axis=1\n",
    "                      )\n",
    "for Country in work_hours.columns:\n",
    "    if Country != 'Price':\n",
    "        work_hours[Country] = work_hours['Price'] / work_hours[Country]\n",
    "\n",
    "work_hours.dropna(inplace=True)\n",
    "work_hours.head()"
   ]
  },
  {
   "cell_type": "markdown",
   "metadata": {},
   "source": [
    "### Gold DataFrame"
   ]
  },
  {
   "cell_type": "code",
   "execution_count": null,
   "metadata": {},
   "outputs": [],
   "source": [
    "# Data Preparation for Monte Carlo Simulation\n",
    "gold_df.columns = pd.MultiIndex.from_product([['GOLD'], \n",
    "                                              gold_df.columns]\n",
    "                                            )\n",
    "gold_df.head()"
   ]
  },
  {
   "cell_type": "markdown",
   "metadata": {},
   "source": [
    "### Local Currencies"
   ]
  },
  {
   "cell_type": "code",
   "execution_count": null,
   "metadata": {},
   "outputs": [],
   "source": [
    "# Create dictionary of currency codes by country\n",
    "country_code = {\"Australia\":\"AUD\", \"Belgium\":\"EUR\", \n",
    "                \"Canada\":\"CAD\", \"Czech Republic\":\"CZK\", \n",
    "                \"Estonia\":\"EUR\", \"France\":\"EUR\", \n",
    "                \"Germany\":\"EUR\", \"Greece\":\"EUR\", \n",
    "                \"Hungary\":\"HUF\", \"Ireland\":\"EUR\", \n",
    "                \"Israel\":\"ILS\", \"Japan\":\"JPY\", \n",
    "                \"Korea\":\"KRW\", \"Latvia\":\"EUR\", \n",
    "                \"Lithuania\":\"EUR\", \"Luxembourg\":\"EUR\", \n",
    "                \"Mexico\":\"MXN\", \"Netherlands\":\"EUR\", \n",
    "                \"New Zealand\":\"NZD\", \"Poland\":\"PLN\", \n",
    "                \"Portugal\":\"EUR\", \"Slovak Republic\":\"EUR\", \n",
    "                \"Slovenia\":\"EUR\", \"Spain\":\"EUR\", \n",
    "                \"Turkey\":\"TRY\", \"United Kingdom\":\"GBP\", \n",
    "                \"Brazil\":\"BRL\"\n",
    "               }"
   ]
  },
  {
   "cell_type": "code",
   "execution_count": null,
   "metadata": {},
   "outputs": [],
   "source": [
    "# Backup copy for CurrencyRates\n",
    "local_currencies = minimum_wage_df.copy()"
   ]
  },
  {
   "cell_type": "code",
   "execution_count": null,
   "metadata": {},
   "outputs": [],
   "source": [
    "for country, currency in country_code.items():    \n",
    "    local_currencies[country] = c.convert('USD', currency, local_currencies[country])\n",
    "local_currencies.head() "
   ]
  },
  {
   "cell_type": "code",
   "execution_count": null,
   "metadata": {},
   "outputs": [],
   "source": [
    "local_currencies[\"Russian Federation\"] = local_currencies[\"Russian Federation\"] * 76.6265\n",
    "local_currencies.tail()"
   ]
  },
  {
   "cell_type": "code",
   "execution_count": null,
   "metadata": {},
   "outputs": [],
   "source": [
    "local_currencies[\"Chile\"] = local_currencies[\"Chile\"] * 766.407\n",
    "local_currencies.head()"
   ]
  },
  {
   "cell_type": "code",
   "execution_count": null,
   "metadata": {},
   "outputs": [],
   "source": [
    "local_currencies[\"Colombia\"] = local_currencies[\"Colombia\"] * 3634.58\n",
    "local_currencies.head()"
   ]
  },
  {
   "cell_type": "code",
   "execution_count": null,
   "metadata": {},
   "outputs": [],
   "source": [
    "local_currencies[\"Costa Rica\"] = local_currencies[\"Costa Rica\"] * 612.927\n",
    "local_currencies.head()"
   ]
  },
  {
   "cell_type": "markdown",
   "metadata": {},
   "source": [
    "## Visualizations"
   ]
  },
  {
   "cell_type": "markdown",
   "metadata": {},
   "source": [
    "### Monte Carlo Simulation"
   ]
  },
  {
   "cell_type": "code",
   "execution_count": null,
   "metadata": {},
   "outputs": [],
   "source": [
    "# Monte Carlo Gold Simulation \n",
    "num_sims = 500\n",
    "MC_GOLD = MCSimulation(portfolio_data = gold_df, \n",
    "                       num_simulation = num_sims, \n",
    "                       weights = [1], \n",
    "                       num_trading_days = 252 * 5\n",
    "                      )\n",
    "MC_GOLD.calc_cumulative_return()\n",
    "line_plot = MC_GOLD.plot_simulation()\n",
    "tbl = MC_GOLD.summarize_cumulative_return()\n",
    "\n",
    "# Print summary statistics\n",
    "print(tbl)\n",
    "\n",
    "# Use the lower and upper `95%` confidence intervals to calculate the range of the possible outcomes of our $10,000 investments in AAPL stocks\n",
    "ci_lower = round(tbl[8]*1500, 2)\n",
    "ci_upper = round(tbl[9]*1500, 2)\n",
    "\n",
    "# Print results\n",
    "print(f\"There is a 95% chance that an initial investment of $1,500 in Gold\"\n",
    "      f\" over the next 5 years will end within in the range of\"\n",
    "      f\" ${ci_lower} and ${ci_upper}.\")"
   ]
  },
  {
   "cell_type": "code",
   "execution_count": null,
   "metadata": {},
   "outputs": [],
   "source": [
    "# Monte Carlo Gold frequency distribution\n",
    "mc_distribution = MC_GOLD.plot_distribution()\n",
    "mc_distribution.get_figure().savefig('MC_fiveyear_dist_plot.png', bbox_inches = 'tight')"
   ]
  },
  {
   "cell_type": "markdown",
   "metadata": {},
   "source": [
    "### Minimum Hourly Wage"
   ]
  },
  {
   "cell_type": "code",
   "execution_count": null,
   "metadata": {},
   "outputs": [],
   "source": [
    "# Bar plot of minimum hourly wage around the world from 2001 to 2019\n",
    "def minimum_hourly_wage_by_year(year):\n",
    "    s_title = 'Minimum Hourly Wage Around the World for '+str(year);\n",
    "    return minimum_wage_df.loc[year,:].hvplot.bar(height=350, \n",
    "                                                  width=700, \n",
    "                                                  title=s_title, \n",
    "                                                  xlabel='Country', \n",
    "                                                  ylabel='Minimum Hourly Wage in USD', \n",
    "                                                  rot=90\n",
    "                                                 )\n",
    "interact(minimum_hourly_wage_by_year, \n",
    "         year=minimum_wage_df.index.values.tolist()\n",
    "        )"
   ]
  },
  {
   "cell_type": "code",
   "execution_count": null,
   "metadata": {},
   "outputs": [],
   "source": [
    "# Line plot of minimum hourly wage for each country from 2001 to 2019\n",
    "minimum_wage_df.hvplot(height=300, \n",
    "                       width=600, \n",
    "                       xlabel='Year', \n",
    "                       ylabel='Minimum Hourly Wage in USD', \n",
    "                       title='Minimum Hourly Wage from 2001 to 2019'\n",
    "                      )"
   ]
  },
  {
   "cell_type": "markdown",
   "metadata": {},
   "source": [
    "### Daily Gold Price"
   ]
  },
  {
   "cell_type": "code",
   "execution_count": null,
   "metadata": {},
   "outputs": [],
   "source": [
    "# Line plot of daily gold price from 2000 to 2019\n",
    "gold_price_df.hvplot(title='GOLD Price from 2000 to 2019', \n",
    "                     xlabel='Years', \n",
    "                     ylabel='Price in USD'\n",
    "                    )"
   ]
  },
  {
   "cell_type": "markdown",
   "metadata": {},
   "source": [
    "### Top 5 Countries "
   ]
  },
  {
   "cell_type": "code",
   "execution_count": null,
   "metadata": {},
   "outputs": [],
   "source": [
    "# Parallel plot of top 5 countries with highest minimum wage in USD\n",
    "highest_minimum_wage_parallel = minimum_wage_df.iloc[0:, 0:5]\n",
    "highest_minimum_wage_parallel.reset_index(inplace=True);\n",
    "px.parallel_coordinates(highest_minimum_wage_parallel, \n",
    "                        color = 'Year', \n",
    "                        title = 'Top 5 countries with highest minimum wage'\n",
    "                       )"
   ]
  },
  {
   "cell_type": "markdown",
   "metadata": {},
   "source": [
    "### Buying Power"
   ]
  },
  {
   "cell_type": "code",
   "execution_count": null,
   "metadata": {},
   "outputs": [],
   "source": [
    "# Scatter mapbox of number of hours needed to purchase 1 troy oz of gold in 2019\n",
    "work_hours_mapbox = pd.DataFrame((work_hours\n",
    "                                 .drop(columns=['Price'])\n",
    "                                 .loc[2019, :])\n",
    "                                 .reset_index()\n",
    "                                 .rename(columns={'index':'Country', \n",
    "                                                  2019:'work_hours'})\n",
    "                                )\n",
    "work_hours_mapbox_merged = pd.merge(country_coordinates_df, \n",
    "                                    work_hours_mapbox)\n",
    "s_title = \"Number of Hours to Purchase 1 oz of Gold in 2019\";\n",
    "fig = px.scatter_mapbox(work_hours_mapbox_merged, \n",
    "                        lat = 'Lat', \n",
    "                        lon = 'Long', \n",
    "                        color ='Country', \n",
    "                        title = s_title, \n",
    "                        size = 'work_hours',\n",
    "                        size_max = 10, \n",
    "                        height = 760, \n",
    "                        zoom = 1, \n",
    "                        range_color = (100, 1200)\n",
    "                       )\n",
    "fig.update_layout(mapbox_style = 'light', \n",
    "                  mapbox_accesstoken = mapbox_token)"
   ]
  },
  {
   "cell_type": "code",
   "execution_count": null,
   "metadata": {},
   "outputs": [],
   "source": [
    "# Line plot of number of hours needed to purchase 1 troy oz of gold from 2001 to 2019\n",
    "work_hours.hvplot(title='Number of Hours to Purchase 1 oz of Gold', \n",
    "                  xlabel='Year', \n",
    "                  ylabel='Hours'\n",
    "                 )"
   ]
  },
  {
   "cell_type": "markdown",
   "metadata": {},
   "source": [
    "### Minimum Hourly Wage in Local Currencies"
   ]
  },
  {
   "cell_type": "code",
   "execution_count": null,
   "metadata": {},
   "outputs": [],
   "source": [
    "# Line plot of minimum hourly wage in local currency by country\n",
    "def local_currencies_country(country):\n",
    "    s_title = 'Minimum Hourly Wage for '+str(country);\n",
    "    return local_currencies.loc[:, country].hvplot(height=350, \n",
    "                                                   width=700, \n",
    "                                                   title=s_title, \n",
    "                                                   xlabel='Country', \n",
    "                                                   ylabel='Minimum Hourly Wage', \n",
    "                                                   rot=90\n",
    "                                                  )\n",
    "interact(local_currencies_country, \n",
    "         country=local_currencies.columns\n",
    "        )"
   ]
  }
 ],
 "metadata": {
  "kernelspec": {
   "display_name": "pyvizenv",
   "language": "python",
   "name": "pyvizenv"
  },
  "language_info": {
   "codemirror_mode": {
    "name": "ipython",
    "version": 3
   },
   "file_extension": ".py",
   "mimetype": "text/x-python",
   "name": "python",
   "nbconvert_exporter": "python",
   "pygments_lexer": "ipython3",
   "version": "3.7.7"
  },
  "toc-autonumbering": true,
  "toc-showcode": true,
  "toc-showmarkdowntxt": false
 },
 "nbformat": 4,
 "nbformat_minor": 4
}
